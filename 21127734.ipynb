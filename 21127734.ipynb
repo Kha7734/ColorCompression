{
 "cells": [
  {
   "cell_type": "code",
   "execution_count": null,
   "metadata": {},
   "outputs": [],
   "source": [
    "import numpy as np\n",
    "from matplotlib import pyplot as plt\n",
    "import PIL\n",
    "# import timeit"
   ]
  },
  {
   "cell_type": "code",
   "execution_count": null,
   "metadata": {},
   "outputs": [],
   "source": [
    "def get_image_info(image):\n",
    "    width = image.shape[0]\n",
    "    height = image.shape[1]\n",
    "    num_channel = image.shape[-1] if image.ndim != 2 else 1 \n",
    "    return width, height, num_channel"
   ]
  },
  {
   "cell_type": "code",
   "execution_count": null,
   "metadata": {},
   "outputs": [],
   "source": [
    "def rand_k_centroids(matrix, k_clusters, random_type=1):\n",
    "    if random_type == 'random':   \n",
    "        rand_centroids = np.random.randint(0, 256, size=(k_clusters, matrix.shape[1]), dtype=np.int64)\n",
    "    elif random_type == 'in_pixels':\n",
    "        rand_centroids = np.random.default_rng()\n",
    "        rand_centroids = rand_centroids.choice(np.unique(matrix), (k_clusters, matrix.shape[1]), replace='False') \n",
    "    \n",
    "    return rand_centroids\n"
   ]
  },
  {
   "cell_type": "code",
   "execution_count": null,
   "metadata": {},
   "outputs": [],
   "source": [
    "def update_centroids(labels, centroids, image_1d, k_clusters):\n",
    "    num_channel = image_1d.shape[1]\n",
    "    new_centroids = np.empty((k_clusters, num_channel))\n",
    "    for k in range(k_clusters):\n",
    "        if np.any(labels == k):\n",
    "            new_centroids[k] = image_1d[labels == k].mean(axis=0)\n",
    "        else:\n",
    "            new_centroids[k] = centroids[k]\n",
    "    return new_centroids\n"
   ]
  },
  {
   "cell_type": "code",
   "execution_count": null,
   "metadata": {},
   "outputs": [],
   "source": [
    "\n",
    "def kmeans(image_1d, k_clusters, max_iter=100, random_type='random'):\n",
    "    \n",
    "    # Random k_clusters centroids\n",
    "    centroids = rand_k_centroids(image_1d, k_clusters, random_type)\n",
    "    \n",
    "    iteration = 0\n",
    "    while(iteration < max_iter):\n",
    "        # Using Manhattan to calculate euclidean distance between 2 pixels.\n",
    "        distance = np.sum(np.abs(image_1d[:, np.newaxis] - centroids), axis=-1)\n",
    "        \n",
    "        labels = np.argmin(distance, axis=-1)\n",
    "\n",
    "        new_centroids = update_centroids(labels, centroids, image_1d, k_clusters)\n",
    "        \n",
    "        # if np.allclose(centroids, new_centroids, rtol=0.5): # For faster\n",
    "        if np.all(centroids == new_centroids): # More accurately\n",
    "            break\n",
    "    \n",
    "        iteration += 1\n",
    "        centroids = new_centroids\n",
    "       \n",
    "    return centroids, labels"
   ]
  },
  {
   "cell_type": "code",
   "execution_count": null,
   "metadata": {},
   "outputs": [],
   "source": [
    "def visuallization(image_1d):\n",
    "    wcss = []\n",
    "    for k in range(1, 11):\n",
    "        centroids, labels = kmeans(image_1d, k, 1000, 'in_pixels')\n",
    "\n",
    "        wcss.append(0)\n",
    "        for i in range(k):\n",
    "            labels_centroids = centroids[i]\n",
    "            labels_data = image_1d[labels == i]\n",
    "            wcss[k-1] += np.sum(np.linalg.norm(labels_data - labels_centroids, axis=1)**2)\n",
    "    \n",
    "    # Plot WCSS versus K\n",
    "    plt.plot(range(1, 11), wcss)\n",
    "    plt.xlabel('Number of clusters (K)')\n",
    "    plt.ylabel('WCSS')\n",
    "    plt.title('Elbow Method')\n",
    "    plt.show()"
   ]
  },
  {
   "cell_type": "code",
   "execution_count": null,
   "metadata": {},
   "outputs": [],
   "source": [
    "def show_image(*img, captions):\n",
    "    fig, axes = plt.subplots(1, 2, figsize=(8, 8))\n",
    "\n",
    "    for i, ax in enumerate(axes.flat):\n",
    "        ax.imshow(img[i])\n",
    "        ax.axis('off')\n",
    "        ax.set_title(captions[i], fontsize=12)\n"
   ]
  },
  {
   "cell_type": "code",
   "execution_count": null,
   "metadata": {},
   "outputs": [],
   "source": [
    "def main():\n",
    "\n",
    "    # Input picture name\n",
    "    img_name = input('Enter image name: ')\n",
    "    format = input('Output format (png, pdf): ')\n",
    "\n",
    "\n",
    "    # Open and convert to numpy.array\n",
    "    image = PIL.Image.open(img_name)\n",
    "    image = np.array(image)\n",
    "\n",
    "    # Get image info\n",
    "    width, height, num_color_channel = get_image_info(image)\n",
    "    image_1d = np.reshape(image, (height * width, num_color_channel))\n",
    "\n",
    "    # Setting k_cluster\n",
    "    k_clusters = 7\n",
    "    \n",
    "    # Call KMeans\n",
    "    centroids, labels = kmeans(image_1d, k_clusters, 100, 'in_pixels')\n",
    "\n",
    "    # Using to visualize Elbow method for optimize K_clusters\n",
    "    # visualization(image)\n",
    "\n",
    "    # Calculate average time of 10 loops\n",
    "    # in_pixel_time = timeit.timeit(lambda: kmeans(image, k_clusters, 100, 'in_pixels'), number=10)\n",
    "    # print(\"Average time for 'in_pixel': \", in_pixel_time / 10)\n",
    "    # random_time = timeit.timeit(lambda: kmeans(image, k_clusters, 100, 'random'), number=10)\n",
    "    # print(\"Average time for 'random': \", random_time / 10)\n",
    "\n",
    "    # Decompress to original dimensions of picture\n",
    "    compress_img = np.take_along_axis(centroids, labels[:, np.newaxis], axis=0)\n",
    "    compress_img = np.reshape(compress_img, (width, height, num_color_channel)).astype(np.uint8)\n",
    "\n",
    "    show_image(image, compress_img, captions=['Origin', 'Color compression'])\n",
    "    \n",
    "    # Save picture with format\n",
    "    save_img = PIL.Image.fromarray(compress_img)\n",
    "    img_name = img_name[:img_name.find('.') + 1] + format\n",
    "    save_img.save(img_name)\n",
    "\n",
    "if __name__ == \"__main__\":\n",
    "    main()"
   ]
  }
 ],
 "metadata": {
  "kernelspec": {
   "display_name": "Python 3",
   "language": "python",
   "name": "python3"
  },
  "language_info": {
   "codemirror_mode": {
    "name": "ipython",
    "version": 3
   },
   "file_extension": ".py",
   "mimetype": "text/x-python",
   "name": "python",
   "nbconvert_exporter": "python",
   "pygments_lexer": "ipython3",
   "version": "3.10.11"
  },
  "orig_nbformat": 4
 },
 "nbformat": 4,
 "nbformat_minor": 2
}
